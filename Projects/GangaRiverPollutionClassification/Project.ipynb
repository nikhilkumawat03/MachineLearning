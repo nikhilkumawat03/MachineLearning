{
 "cells": [
  {
   "cell_type": "code",
   "execution_count": 1,
   "id": "a6a7f573",
   "metadata": {},
   "outputs": [],
   "source": [
    "import findspark\n",
    "findspark.init()\n",
    "\n",
    "from pyspark.sql import SparkSession"
   ]
  },
  {
   "cell_type": "code",
   "execution_count": 2,
   "id": "93c16093",
   "metadata": {},
   "outputs": [
    {
     "name": "stdout",
     "output_type": "stream",
     "text": [
      "22/11/19 15:04:14 WARN Utils: Your hostname, nikhil resolves to a loopback address: 127.0.1.1; using 192.168.68.127 instead (on interface usb0)\n",
      "22/11/19 15:04:14 WARN Utils: Set SPARK_LOCAL_IP if you need to bind to another address\n"
     ]
    },
    {
     "name": "stderr",
     "output_type": "stream",
     "text": [
      "Setting default log level to \"WARN\".\n",
      "To adjust logging level use sc.setLogLevel(newLevel). For SparkR, use setLogLevel(newLevel).\n"
     ]
    },
    {
     "name": "stdout",
     "output_type": "stream",
     "text": [
      "22/11/19 15:04:14 WARN NativeCodeLoader: Unable to load native-hadoop library for your platform... using builtin-java classes where applicable\n"
     ]
    }
   ],
   "source": [
    "spark = SparkSession.builder.appName('GangaRiver').master('spark://namenode:7077').getOrCreate()\n",
    "spark.conf.set(\"spark.sql.execution.arrow.pyspark.enabled\", \"true\")"
   ]
  },
  {
   "cell_type": "code",
   "execution_count": 3,
   "id": "fefea6f1",
   "metadata": {},
   "outputs": [
    {
     "name": "stderr",
     "output_type": "stream",
     "text": [
      "[Stage 1:>                                                          (0 + 1) / 1]\r"
     ]
    },
    {
     "name": "stdout",
     "output_type": "stream",
     "text": [
      "root\n",
      " |-- DO: double (nullable = true)\n",
      " |-- pH: double (nullable = true)\n",
      " |-- ORP: double (nullable = true)\n",
      " |-- Cond: double (nullable = true)\n",
      " |-- Temp: double (nullable = true)\n",
      " |-- WQI: double (nullable = true)\n",
      " |-- Status: string (nullable = true)\n",
      "\n"
     ]
    },
    {
     "name": "stderr",
     "output_type": "stream",
     "text": [
      "\r",
      "                                                                                \r"
     ]
    }
   ],
   "source": [
    "df = spark.read.csv('ganga.csv', header = True, inferSchema = True)\n",
    "\n",
    "# Print the schema of the dataset\n",
    "df.printSchema()"
   ]
  },
  {
   "cell_type": "markdown",
   "id": "0c1657b0",
   "metadata": {},
   "source": [
    "# Data Preprocessing "
   ]
  },
  {
   "cell_type": "code",
   "execution_count": 4,
   "id": "bf4f945d",
   "metadata": {},
   "outputs": [
    {
     "name": "stdout",
     "output_type": "stream",
     "text": [
      "+-----------+----------+----------+-----------+---------+-----------+---------+\n",
      "|         DO|        pH|       ORP|       Cond|     Temp|        WQI|   Status|\n",
      "+-----------+----------+----------+-----------+---------+-----------+---------+\n",
      "| 8.63052641|  8.879727|0.08482218| 0.04469828|22.650238|20.50452959|     Fair|\n",
      "|8.644232787|  8.866815|0.08629203|0.044651296|22.567017|20.35919708|     Fair|\n",
      "|  13.501176| 12.359906|0.14290023|   46.19519|18.400787|42.01432799|Very Poor|\n",
      "|9.458531041| 12.825684|0.14623594|   52.60968|18.013641|47.74543444|Very Poor|\n",
      "|  12.409351| 12.998978|0.14672422|  52.399826| 18.18457|46.92559347|Very Poor|\n",
      "|  13.330035| 13.105331|0.14353323|  41.708813|18.367126|47.72259341|Very Poor|\n",
      "|  10.858296|13.1836815|0.14233637|   52.92656|18.268341|48.31563432|Very Poor|\n",
      "|   11.62481| 13.263382|0.14168048|   53.68222|18.302948|48.92207343|Very Poor|\n",
      "|  13.488875| 13.269672|0.14186788|  53.700462|18.293518|48.97121512|Very Poor|\n",
      "|   15.40315| 13.209754|0.14616036|  53.097546|17.835968|48.53565442|Very Poor|\n",
      "|  10.023188| 13.133904|0.14445615|  53.162533|18.049866|47.94604003|Very Poor|\n",
      "|  10.440537| 13.114431|0.14302349|   53.92621|17.987213|47.78933701|Very Poor|\n",
      "|   9.573098| 12.938559|0.14299321|  53.307175|17.969666|48.13727116|Very Poor|\n",
      "|  12.113423| 12.993829|0.14477754|  53.593697|17.880493|46.87575921|Very Poor|\n",
      "|  13.279036| 12.914619|0.14622903|   53.43051|17.700531|46.27733607|Very Poor|\n",
      "|  12.543279| 13.078457|0.14588857|  54.026882|17.687866|47.52937443|Very Poor|\n",
      "|  11.439044|13.2358055| 0.1455555|   53.17147|17.812592|48.73178783|Very Poor|\n",
      "|   11.42445| 13.178658|0.14509082|  53.578583|17.936218|48.29194515|Very Poor|\n",
      "|  10.317891| 13.206802|0.14493966|   54.04696|18.070679|48.50652312|Very Poor|\n",
      "|  12.429812|  13.21106|0.14636731|   54.67651| 18.19461|48.54675798|Very Poor|\n",
      "+-----------+----------+----------+-----------+---------+-----------+---------+\n",
      "only showing top 20 rows\n",
      "\n",
      "Number of rows in the dataset:  46528\n"
     ]
    }
   ],
   "source": [
    "# top 20 rows of the dataset\n",
    "df.show()\n",
    "\n",
    "# Number of rows in the dataset.\n",
    "print (f'Number of rows in the dataset: ', df.count())"
   ]
  },
  {
   "cell_type": "code",
   "execution_count": 5,
   "id": "4a3f5646",
   "metadata": {},
   "outputs": [
    {
     "name": "stdout",
     "output_type": "stream",
     "text": [
      "+---+---+---+----+----+---+------+\n",
      "| DO| pH|ORP|Cond|Temp|WQI|Status|\n",
      "+---+---+---+----+----+---+------+\n",
      "|  0|  0|  0|   0|   0|  0|     0|\n",
      "+---+---+---+----+----+---+------+\n",
      "\n",
      "0 null values present in the dataset\n"
     ]
    },
    {
     "name": "stderr",
     "output_type": "stream",
     "text": [
      "\r",
      "[Stage 6:>                                                          (0 + 1) / 1]\r",
      "\r",
      "                                                                                \r"
     ]
    }
   ],
   "source": [
    "# Count the number of None, null, empty string present in the dataset.\n",
    "from pyspark.sql.functions import col,isnan,when,count\n",
    "df2 = df.select([count(when(col(c).contains('None') | \\\n",
    "                            col(c).contains('NULL') | \\\n",
    "                            (col(c) == '' ) | \\\n",
    "                            col(c).isNull() | \\\n",
    "                            isnan(c), c \n",
    "                           )).alias(c)\n",
    "                    for c in df.columns])\n",
    "df2.show()\n",
    "\n",
    "print (\"0 null values present in the dataset\")"
   ]
  },
  {
   "cell_type": "code",
   "execution_count": 6,
   "id": "85ed25b0",
   "metadata": {},
   "outputs": [
    {
     "data": {
      "text/html": [
       "<div>\n",
       "<style scoped>\n",
       "    .dataframe tbody tr th:only-of-type {\n",
       "        vertical-align: middle;\n",
       "    }\n",
       "\n",
       "    .dataframe tbody tr th {\n",
       "        vertical-align: top;\n",
       "    }\n",
       "\n",
       "    .dataframe thead th {\n",
       "        text-align: right;\n",
       "    }\n",
       "</style>\n",
       "<table border=\"1\" class=\"dataframe\">\n",
       "  <thead>\n",
       "    <tr style=\"text-align: right;\">\n",
       "      <th></th>\n",
       "      <th>summary</th>\n",
       "      <th>DO</th>\n",
       "      <th>pH</th>\n",
       "      <th>ORP</th>\n",
       "      <th>Cond</th>\n",
       "      <th>Temp</th>\n",
       "      <th>WQI</th>\n",
       "    </tr>\n",
       "  </thead>\n",
       "  <tbody>\n",
       "    <tr>\n",
       "      <th>0</th>\n",
       "      <td>count</td>\n",
       "      <td>46528</td>\n",
       "      <td>46528</td>\n",
       "      <td>46528</td>\n",
       "      <td>46528</td>\n",
       "      <td>46528</td>\n",
       "      <td>46528</td>\n",
       "    </tr>\n",
       "    <tr>\n",
       "      <th>1</th>\n",
       "      <td>mean</td>\n",
       "      <td>8.249896476546015</td>\n",
       "      <td>9.872368776500354</td>\n",
       "      <td>0.06982530335490471</td>\n",
       "      <td>316.815828455163</td>\n",
       "      <td>25.7991232931672</td>\n",
       "      <td>29.044676842514022</td>\n",
       "    </tr>\n",
       "    <tr>\n",
       "      <th>2</th>\n",
       "      <td>stddev</td>\n",
       "      <td>0.8755463641092607</td>\n",
       "      <td>1.419020860509747</td>\n",
       "      <td>0.11891145124722766</td>\n",
       "      <td>176.4085819915899</td>\n",
       "      <td>2.971161880817394</td>\n",
       "      <td>12.125888570451846</td>\n",
       "    </tr>\n",
       "    <tr>\n",
       "      <th>3</th>\n",
       "      <td>min</td>\n",
       "      <td>7.007747</td>\n",
       "      <td>7.646097</td>\n",
       "      <td>-0.82393026</td>\n",
       "      <td>0.044651296</td>\n",
       "      <td>15.909393</td>\n",
       "      <td>4.713774295</td>\n",
       "    </tr>\n",
       "    <tr>\n",
       "      <th>4</th>\n",
       "      <td>max</td>\n",
       "      <td>19.918926</td>\n",
       "      <td>13.971594</td>\n",
       "      <td>0.21243644</td>\n",
       "      <td>610.3731</td>\n",
       "      <td>30.691772</td>\n",
       "      <td>63.32105591</td>\n",
       "    </tr>\n",
       "  </tbody>\n",
       "</table>\n",
       "</div>"
      ],
      "text/plain": [
       "  summary                  DO                 pH                  ORP  \\\n",
       "0   count               46528              46528                46528   \n",
       "1    mean   8.249896476546015  9.872368776500354  0.06982530335490471   \n",
       "2  stddev  0.8755463641092607  1.419020860509747  0.11891145124722766   \n",
       "3     min            7.007747           7.646097          -0.82393026   \n",
       "4     max           19.918926          13.971594           0.21243644   \n",
       "\n",
       "                Cond               Temp                 WQI  \n",
       "0              46528              46528               46528  \n",
       "1   316.815828455163   25.7991232931672  29.044676842514022  \n",
       "2  176.4085819915899  2.971161880817394  12.125888570451846  \n",
       "3        0.044651296          15.909393         4.713774295  \n",
       "4           610.3731          30.691772         63.32105591  "
      ]
     },
     "execution_count": 6,
     "metadata": {},
     "output_type": "execute_result"
    }
   ],
   "source": [
    "# Summary of numeric features\n",
    "\n",
    "numeric_features = [t[0] for t in df.dtypes if t[1] == 'double']\n",
    "df.select(numeric_features).describe().toPandas()"
   ]
  },
  {
   "cell_type": "code",
   "execution_count": 7,
   "id": "362c7ef7",
   "metadata": {},
   "outputs": [
    {
     "name": "stdout",
     "output_type": "stream",
     "text": [
      "+---------+\n",
      "|   Status|\n",
      "+---------+\n",
      "|Excellent|\n",
      "|     Good|\n",
      "|     Fair|\n",
      "|Very Poor|\n",
      "|     Poor|\n",
      "+---------+\n",
      "\n"
     ]
    },
    {
     "name": "stderr",
     "output_type": "stream",
     "text": [
      "\r",
      "[Stage 16:>                                                         (0 + 1) / 1]\r"
     ]
    },
    {
     "name": "stdout",
     "output_type": "stream",
     "text": [
      "There are  5  classes in target column\n"
     ]
    },
    {
     "name": "stderr",
     "output_type": "stream",
     "text": [
      "\r",
      "                                                                                \r"
     ]
    }
   ],
   "source": [
    "# Print all classes for target column\n",
    "df.select('Status').distinct().show()\n",
    "classes_count = df.select('Status').distinct().count()\n",
    "print (\"There are \", classes_count, \" classes in target column\")"
   ]
  },
  {
   "cell_type": "code",
   "execution_count": 8,
   "id": "d17a9970",
   "metadata": {},
   "outputs": [
    {
     "name": "stdout",
     "output_type": "stream",
     "text": [
      "+---------+-----+\n",
      "|   Status|count|\n",
      "+---------+-----+\n",
      "|Excellent| 2659|\n",
      "|     Good| 4632|\n",
      "|     Fair|16779|\n",
      "|Very Poor| 6840|\n",
      "|     Poor|15618|\n",
      "+---------+-----+\n",
      "\n"
     ]
    }
   ],
   "source": [
    "# Counting the classes distribution\n",
    "df.groupBy('Status').count().show()"
   ]
  },
  {
   "cell_type": "markdown",
   "id": "12850a1a",
   "metadata": {},
   "source": [
    "# Feature Extraction"
   ]
  },
  {
   "cell_type": "markdown",
   "id": "5e453078",
   "metadata": {},
   "source": [
    "## Correlations between independent variables."
   ]
  },
  {
   "cell_type": "code",
   "execution_count": 9,
   "id": "64860e40",
   "metadata": {},
   "outputs": [
    {
     "name": "stderr",
     "output_type": "stream",
     "text": [
      "\r",
      "[Stage 25:>                                                         (0 + 1) / 1]\r",
      "\r",
      "                                                                                \r"
     ]
    },
    {
     "data": {
      "image/png": "[encoded data removed]",
      "text/plain": [
       "<Figure size 576x576 with 36 Axes>"
      ]
     },
     "metadata": {
      "needs_background": "light"
     },
     "output_type": "display_data"
    }
   ],
   "source": [
    "import pandas as pd\n",
    "\n",
    "numeric_data = df.select(numeric_features).toPandas()\n",
    "axs = pd.plotting.scatter_matrix(numeric_data, figsize=(8, 8));\n",
    "n = len(numeric_data.columns)\n",
    "for i in range(n):\n",
    "    v = axs[i, 0]\n",
    "    v.yaxis.label.set_rotation(0)\n",
    "    v.yaxis.label.set_ha('right')\n",
    "    v.set_yticks(())\n",
    "    h = axs[n-1, i]\n",
    "    h.xaxis.label.set_rotation(90)\n",
    "    h.set_xticks(())"
   ]
  },
  {
   "cell_type": "markdown",
   "id": "f739a49e",
   "metadata": {},
   "source": [
    "From the above correlation matrix it can be seen that the WQI and pH have positive correlation and hence one of these feature can be removed."
   ]
  },
  {
   "cell_type": "markdown",
   "id": "33c9bb1e",
   "metadata": {},
   "source": [
    "## Machine Learning"
   ]
  },
  {
   "cell_type": "markdown",
   "id": "3172ee5f",
   "metadata": {},
   "source": [
    "## Preparing data for machine learning\n",
    "The process includes Category Indexing, One-Hot Encoding and VectorAssembler — a feature transformer that merges multiple columns into a vector column."
   ]
  },
  {
   "cell_type": "code",
   "execution_count": 10,
   "id": "ce1e1901",
   "metadata": {},
   "outputs": [],
   "source": [
    "from pyspark.ml.feature import StringIndexer\n",
    "from pyspark.ml.feature import VectorAssembler\n",
    "stages = []\n",
    "\n",
    "indexer = StringIndexer(inputCol=\"Status\", outputCol=\"label\")\n",
    "stages += [indexer]\n",
    "\n",
    "assemblerInputs = numeric_features\n",
    "assembler = VectorAssembler(inputCols=assemblerInputs, outputCol=\"features\")\n",
    "stages += [assembler]"
   ]
  },
  {
   "cell_type": "code",
   "execution_count": 11,
   "id": "db04bf90",
   "metadata": {},
   "outputs": [
    {
     "name": "stderr",
     "output_type": "stream",
     "text": [
      "                                                                                \r"
     ]
    },
    {
     "name": "stdout",
     "output_type": "stream",
     "text": [
      "root\n",
      " |-- label: double (nullable = false)\n",
      " |-- features: vector (nullable = true)\n",
      "\n"
     ]
    }
   ],
   "source": [
    "from pyspark.ml import Pipeline\n",
    "pipeline = Pipeline(stages = stages)\n",
    "pipelineModel = pipeline.fit(df)\n",
    "df = pipelineModel.transform(df)\n",
    "selectedCols = ['label', 'features']\n",
    "df = df.select(selectedCols)\n",
    "df.printSchema()"
   ]
  },
  {
   "cell_type": "code",
   "execution_count": 59,
   "id": "272373d0",
   "metadata": {},
   "outputs": [
    {
     "data": {
      "text/plain": [
       "DataFrame[features: vector, label: double]"
      ]
     },
     "execution_count": 59,
     "metadata": {},
     "output_type": "execute_result"
    }
   ],
   "source": [
    "df.select(['features', 'label'])"
   ]
  },
  {
   "cell_type": "markdown",
   "id": "30fbd6bc",
   "metadata": {},
   "source": [
    "We have now feature columns and label columns.\n",
    "\n",
    "Now, data is splitted randomly into train and test sets, and set seed for reproducibility"
   ]
  },
  {
   "cell_type": "code",
   "execution_count": 60,
   "id": "fa5b2d42",
   "metadata": {},
   "outputs": [
    {
     "name": "stdout",
     "output_type": "stream",
     "text": [
      "Training Dataset Count: 32610\n",
      "Test Dataset Count: 13918\n"
     ]
    }
   ],
   "source": [
    "train, test = df.randomSplit([0.7, 0.3], seed = 2018)\n",
    "print(\"Training Dataset Count: \" + str(train.count()))\n",
    "print(\"Test Dataset Count: \" + str(test.count()))"
   ]
  },
  {
   "cell_type": "code",
   "execution_count": 72,
   "id": "c69e1fb1",
   "metadata": {},
   "outputs": [
    {
     "name": "stderr",
     "output_type": "stream",
     "text": [
      "                                                                                \r"
     ]
    }
   ],
   "source": [
    "from pyspark.ml.classification import LogisticRegression\n",
    "lr = LogisticRegression(featuresCol = 'features', labelCol = 'label', maxIter=10, regParam=0.0, elasticNetParam=0.8)\n",
    "lrModel = lr.fit(train)"
   ]
  },
  {
   "cell_type": "code",
   "execution_count": 73,
   "id": "de6ad72b",
   "metadata": {},
   "outputs": [
    {
     "name": "stderr",
     "output_type": "stream",
     "text": [
      "\r",
      "[Stage 227:>                                                        (0 + 1) / 1]\r"
     ]
    },
    {
     "name": "stdout",
     "output_type": "stream",
     "text": [
      "+----------+-----+\n",
      "|prediction|count|\n",
      "+----------+-----+\n",
      "|       0.0| 4956|\n",
      "|       1.0| 4730|\n",
      "|       4.0|  822|\n",
      "|       3.0| 1326|\n",
      "|       2.0| 2084|\n",
      "+----------+-----+\n",
      "\n"
     ]
    },
    {
     "name": "stderr",
     "output_type": "stream",
     "text": [
      "\r",
      "                                                                                \r"
     ]
    }
   ],
   "source": [
    "predictions = lrModel.transform(test)\n",
    "predictions.groupBy(\"prediction\").count().show()"
   ]
  },
  {
   "cell_type": "code",
   "execution_count": 74,
   "id": "9700587e",
   "metadata": {},
   "outputs": [
    {
     "name": "stderr",
     "output_type": "stream",
     "text": [
      "\r",
      "[Stage 230:>                                                        (0 + 1) / 1]\r"
     ]
    },
    {
     "name": "stdout",
     "output_type": "stream",
     "text": [
      "Test Area under ROC:  0.9919559703761459\n"
     ]
    },
    {
     "name": "stderr",
     "output_type": "stream",
     "text": [
      "\r",
      "                                                                                \r"
     ]
    }
   ],
   "source": [
    "from pyspark.ml.evaluation import MulticlassClassificationEvaluator\n",
    "evaluator = MulticlassClassificationEvaluator()\n",
    "evaluator.setLabelCol(\"label\")\n",
    "evaluator.setPredictionCol (\"prediction\")\n",
    "print(\"Test Area under ROC: \", evaluator.evaluate (predictions))"
   ]
  },
  {
   "cell_type": "code",
   "execution_count": 75,
   "id": "403c9c25",
   "metadata": {},
   "outputs": [
    {
     "name": "stderr",
     "output_type": "stream",
     "text": [
      "/home/nikhil/spark3/python/pyspark/sql/context.py:157: FutureWarning: Deprecated in 3.0.0. Use SparkSession.builder.getOrCreate() instead.\n",
      "  warnings.warn(\n"
     ]
    }
   ],
   "source": [
    "from pyspark.mllib.evaluation import MulticlassMetrics\n",
    "preds_and_labels = predictions.select(['prediction','label'])\n",
    "metrics = MulticlassMetrics(preds_and_labels.rdd.map(tuple))"
   ]
  },
  {
   "cell_type": "code",
   "execution_count": 76,
   "id": "36fdb6c9",
   "metadata": {},
   "outputs": [
    {
     "name": "stderr",
     "output_type": "stream",
     "text": [
      "\r",
      "[Stage 233:>                                                        (0 + 1) / 1]\r"
     ]
    },
    {
     "name": "stdout",
     "output_type": "stream",
     "text": [
      "DenseMatrix([[4.933e+03, 7.500e+01, 0.000e+00, 1.000e+00, 1.000e+00],\n",
      "             [7.000e+00, 4.647e+03, 4.000e+00, 0.000e+00, 0.000e+00],\n",
      "             [2.000e+00, 8.000e+00, 2.080e+03, 0.000e+00, 0.000e+00],\n",
      "             [1.400e+01, 0.000e+00, 0.000e+00, 1.325e+03, 0.000e+00],\n",
      "             [0.000e+00, 0.000e+00, 0.000e+00, 0.000e+00, 8.210e+02]])\n"
     ]
    },
    {
     "name": "stderr",
     "output_type": "stream",
     "text": [
      "\r",
      "                                                                                \r"
     ]
    }
   ],
   "source": [
    "print(metrics.confusionMatrix())"
   ]
  },
  {
   "cell_type": "code",
   "execution_count": 77,
   "id": "92e4f916",
   "metadata": {},
   "outputs": [
    {
     "name": "stdout",
     "output_type": "stream",
     "text": [
      "Weighted recall = 0.9919528667912055\n",
      "Weighted precision = 0.9920241928386934\n",
      "Weighted F(1) Score = 0.9919559703761459\n",
      "Weighted F(0.5) Score = 0.991989120439517\n",
      "Weighted false positive rate = 0.003992130065752851\n"
     ]
    }
   ],
   "source": [
    "\n",
    "# Weighted stats\n",
    "print(\"Weighted recall = %s\" % metrics.weightedRecall)\n",
    "print(\"Weighted precision = %s\" % metrics.weightedPrecision)\n",
    "print(\"Weighted F(1) Score = %s\" % metrics.weightedFMeasure())\n",
    "print(\"Weighted F(0.5) Score = %s\" % metrics.weightedFMeasure(beta=0.5))\n",
    "print(\"Weighted false positive rate = %s\" % metrics.weightedFalsePositiveRate)"
   ]
  },
  {
   "cell_type": "code",
   "execution_count": null,
   "id": "218f3c80",
   "metadata": {},
   "outputs": [],
   "source": []
  }
 ],
 "metadata": {
  "kernelspec": {
   "display_name": "Python 3 (ipykernel)",
   "language": "python",
   "name": "python3"
  },
  "language_info": {
   "codemirror_mode": {
    "name": "ipython",
    "version": 3
   },
   "file_extension": ".py",
   "mimetype": "text/x-python",
   "name": "python",
   "nbconvert_exporter": "python",
   "pygments_lexer": "ipython3",
   "version": "3.10.6"
  }
 },
 "nbformat": 4,
 "nbformat_minor": 5
}
