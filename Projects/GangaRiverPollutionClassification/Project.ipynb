{
 "cells": [
  {
   "cell_type": "code",
   "execution_count": 1,
   "id": "a6a7f573",
   "metadata": {},
   "outputs": [],
   "source": [
    "import findspark\n",
    "#findspark.init()\n",
    "\n",
    "from pyspark.sql import SparkSession"
   ]
  },
  {
   "cell_type": "code",
   "execution_count": 2,
   "id": "93c16093",
   "metadata": {},
   "outputs": [
    {
     "name": "stdout",
     "output_type": "stream",
     "text": [
      "22/11/25 17:38:33 WARN Utils: Your hostname, nikhil resolves to a loopback address: 127.0.1.1; using 192.168.68.127 instead (on interface usb0)\n",
      "22/11/25 17:38:33 WARN Utils: Set SPARK_LOCAL_IP if you need to bind to another address\n"
     ]
    },
    {
     "name": "stderr",
     "output_type": "stream",
     "text": [
      "Setting default log level to \"WARN\".\n",
      "To adjust logging level use sc.setLogLevel(newLevel). For SparkR, use setLogLevel(newLevel).\n"
     ]
    },
    {
     "name": "stdout",
     "output_type": "stream",
     "text": [
      "22/11/25 17:38:34 WARN NativeCodeLoader: Unable to load native-hadoop library for your platform... using builtin-java classes where applicable\n"
     ]
    }
   ],
   "source": [
    "spark = SparkSession.builder.appName('GangaRiver').master('local[*]').getOrCreate()\n",
    "spark.conf.set(\"spark.sql.execution.arrow.pyspark.enabled\", \"true\")"
   ]
  },
  {
   "cell_type": "code",
   "execution_count": 3,
   "id": "fefea6f1",
   "metadata": {},
   "outputs": [
    {
     "name": "stdout",
     "output_type": "stream",
     "text": [
      "root\n",
      " |-- DO: double (nullable = true)\n",
      " |-- pH: double (nullable = true)\n",
      " |-- ORP: double (nullable = true)\n",
      " |-- Cond: double (nullable = true)\n",
      " |-- Temp: double (nullable = true)\n",
      " |-- WQI: double (nullable = true)\n",
      " |-- Status: string (nullable = true)\n",
      "\n"
     ]
    }
   ],
   "source": [
    "df = spark.read.csv('file:///media/nikhil/New Volume/Data Science/MachineLearning/Projects/GangaRiverPollutionClassification/ganga.csv', header = True, inferSchema = True)\n",
    "\n",
    "# Print the schema of the dataset\n",
    "df.printSchema()"
   ]
  },
  {
   "cell_type": "markdown",
   "id": "0c1657b0",
   "metadata": {},
   "source": [
    "# Data Preprocessing "
   ]
  },
  {
   "cell_type": "code",
   "execution_count": 4,
   "id": "bf4f945d",
   "metadata": {},
   "outputs": [
    {
     "name": "stdout",
     "output_type": "stream",
     "text": [
      "+-----------+----------+----------+-----------+---------+-----------+---------+\n",
      "|         DO|        pH|       ORP|       Cond|     Temp|        WQI|   Status|\n",
      "+-----------+----------+----------+-----------+---------+-----------+---------+\n",
      "| 8.63052641|  8.879727|0.08482218| 0.04469828|22.650238|20.50452959|     Fair|\n",
      "|8.644232787|  8.866815|0.08629203|0.044651296|22.567017|20.35919708|     Fair|\n",
      "|  13.501176| 12.359906|0.14290023|   46.19519|18.400787|42.01432799|Very Poor|\n",
      "|9.458531041| 12.825684|0.14623594|   52.60968|18.013641|47.74543444|Very Poor|\n",
      "|  12.409351| 12.998978|0.14672422|  52.399826| 18.18457|46.92559347|Very Poor|\n",
      "|  13.330035| 13.105331|0.14353323|  41.708813|18.367126|47.72259341|Very Poor|\n",
      "|  10.858296|13.1836815|0.14233637|   52.92656|18.268341|48.31563432|Very Poor|\n",
      "|   11.62481| 13.263382|0.14168048|   53.68222|18.302948|48.92207343|Very Poor|\n",
      "|  13.488875| 13.269672|0.14186788|  53.700462|18.293518|48.97121512|Very Poor|\n",
      "|   15.40315| 13.209754|0.14616036|  53.097546|17.835968|48.53565442|Very Poor|\n",
      "|  10.023188| 13.133904|0.14445615|  53.162533|18.049866|47.94604003|Very Poor|\n",
      "|  10.440537| 13.114431|0.14302349|   53.92621|17.987213|47.78933701|Very Poor|\n",
      "|   9.573098| 12.938559|0.14299321|  53.307175|17.969666|48.13727116|Very Poor|\n",
      "|  12.113423| 12.993829|0.14477754|  53.593697|17.880493|46.87575921|Very Poor|\n",
      "|  13.279036| 12.914619|0.14622903|   53.43051|17.700531|46.27733607|Very Poor|\n",
      "|  12.543279| 13.078457|0.14588857|  54.026882|17.687866|47.52937443|Very Poor|\n",
      "|  11.439044|13.2358055| 0.1455555|   53.17147|17.812592|48.73178783|Very Poor|\n",
      "|   11.42445| 13.178658|0.14509082|  53.578583|17.936218|48.29194515|Very Poor|\n",
      "|  10.317891| 13.206802|0.14493966|   54.04696|18.070679|48.50652312|Very Poor|\n",
      "|  12.429812|  13.21106|0.14636731|   54.67651| 18.19461|48.54675798|Very Poor|\n",
      "+-----------+----------+----------+-----------+---------+-----------+---------+\n",
      "only showing top 20 rows\n",
      "\n",
      "Number of rows in the dataset:  102\n"
     ]
    }
   ],
   "source": [
    "# top 20 rows of the dataset\n",
    "df.show()\n",
    "\n",
    "# Number of rows in the dataset.\n",
    "print (f'Number of rows in the dataset: ', df.count())"
   ]
  },
  {
   "cell_type": "code",
   "execution_count": 5,
   "id": "4a3f5646",
   "metadata": {},
   "outputs": [
    {
     "name": "stdout",
     "output_type": "stream",
     "text": [
      "+---+---+---+----+----+---+------+\n",
      "| DO| pH|ORP|Cond|Temp|WQI|Status|\n",
      "+---+---+---+----+----+---+------+\n",
      "|  0|  0|  0|   0|   0|  0|     0|\n",
      "+---+---+---+----+----+---+------+\n",
      "\n",
      "0 null values present in the dataset\n"
     ]
    }
   ],
   "source": [
    "# Count the number of None, null, empty string present in the dataset.\n",
    "from pyspark.sql.functions import col,isnan,when,count\n",
    "df2 = df.select([count(when(col(c).contains('None') | \\\n",
    "                            col(c).contains('NULL') | \\\n",
    "                            (col(c) == '' ) | \\\n",
    "                            col(c).isNull() | \\\n",
    "                            isnan(c), c \n",
    "                           )).alias(c)\n",
    "                    for c in df.columns])\n",
    "df2.show()\n",
    "\n",
    "print (\"0 null values present in the dataset\")"
   ]
  },
  {
   "cell_type": "code",
   "execution_count": 6,
   "id": "85ed25b0",
   "metadata": {},
   "outputs": [
    {
     "data": {
      "text/html": [
       "<div>\n",
       "<style scoped>\n",
       "    .dataframe tbody tr th:only-of-type {\n",
       "        vertical-align: middle;\n",
       "    }\n",
       "\n",
       "    .dataframe tbody tr th {\n",
       "        vertical-align: top;\n",
       "    }\n",
       "\n",
       "    .dataframe thead th {\n",
       "        text-align: right;\n",
       "    }\n",
       "</style>\n",
       "<table border=\"1\" class=\"dataframe\">\n",
       "  <thead>\n",
       "    <tr style=\"text-align: right;\">\n",
       "      <th></th>\n",
       "      <th>summary</th>\n",
       "      <th>DO</th>\n",
       "      <th>pH</th>\n",
       "      <th>ORP</th>\n",
       "      <th>Cond</th>\n",
       "      <th>Temp</th>\n",
       "      <th>WQI</th>\n",
       "    </tr>\n",
       "  </thead>\n",
       "  <tbody>\n",
       "    <tr>\n",
       "      <th>0</th>\n",
       "      <td>count</td>\n",
       "      <td>102</td>\n",
       "      <td>102</td>\n",
       "      <td>102</td>\n",
       "      <td>102</td>\n",
       "      <td>102</td>\n",
       "      <td>102</td>\n",
       "    </tr>\n",
       "    <tr>\n",
       "      <th>1</th>\n",
       "      <td>mean</td>\n",
       "      <td>9.05368230788235</td>\n",
       "      <td>11.687089581862747</td>\n",
       "      <td>0.11784825842156867</td>\n",
       "      <td>74.92706724682351</td>\n",
       "      <td>24.94930492156863</td>\n",
       "      <td>42.85132681362745</td>\n",
       "    </tr>\n",
       "    <tr>\n",
       "      <th>2</th>\n",
       "      <td>stddev</td>\n",
       "      <td>2.1438677413823193</td>\n",
       "      <td>1.7196198865988563</td>\n",
       "      <td>0.027042619803426524</td>\n",
       "      <td>134.46591741660794</td>\n",
       "      <td>5.365033911474017</td>\n",
       "      <td>11.327184823695244</td>\n",
       "    </tr>\n",
       "    <tr>\n",
       "      <th>3</th>\n",
       "      <td>min</td>\n",
       "      <td>7.465528178</td>\n",
       "      <td>8.49603</td>\n",
       "      <td>0.02918291</td>\n",
       "      <td>0.044651296</td>\n",
       "      <td>17.687866</td>\n",
       "      <td>14.1490993</td>\n",
       "    </tr>\n",
       "    <tr>\n",
       "      <th>4</th>\n",
       "      <td>max</td>\n",
       "      <td>15.40315</td>\n",
       "      <td>13.971594</td>\n",
       "      <td>0.15215278</td>\n",
       "      <td>394.34155</td>\n",
       "      <td>30.691772</td>\n",
       "      <td>63.32105591</td>\n",
       "    </tr>\n",
       "  </tbody>\n",
       "</table>\n",
       "</div>"
      ],
      "text/plain": [
       "  summary                  DO                  pH                   ORP  \\\n",
       "0   count                 102                 102                   102   \n",
       "1    mean    9.05368230788235  11.687089581862747   0.11784825842156867   \n",
       "2  stddev  2.1438677413823193  1.7196198865988563  0.027042619803426524   \n",
       "3     min         7.465528178             8.49603            0.02918291   \n",
       "4     max            15.40315           13.971594            0.15215278   \n",
       "\n",
       "                 Cond               Temp                 WQI  \n",
       "0                 102                102                 102  \n",
       "1   74.92706724682351  24.94930492156863   42.85132681362745  \n",
       "2  134.46591741660794  5.365033911474017  11.327184823695244  \n",
       "3         0.044651296          17.687866          14.1490993  \n",
       "4           394.34155          30.691772         63.32105591  "
      ]
     },
     "execution_count": 6,
     "metadata": {},
     "output_type": "execute_result"
    }
   ],
   "source": [
    "# Summary of numeric features\n",
    "\n",
    "numeric_features = [t[0] for t in df.dtypes if t[1] == 'double']\n",
    "df.select(numeric_features).describe().toPandas()"
   ]
  },
  {
   "cell_type": "code",
   "execution_count": 7,
   "id": "362c7ef7",
   "metadata": {},
   "outputs": [
    {
     "name": "stdout",
     "output_type": "stream",
     "text": [
      "+---------+\n",
      "|   Status|\n",
      "+---------+\n",
      "|     Good|\n",
      "|     Fair|\n",
      "|Very Poor|\n",
      "|     Poor|\n",
      "+---------+\n",
      "\n",
      "There are  4  classes in target column\n"
     ]
    }
   ],
   "source": [
    "# Print all classes for target column\n",
    "df.select('Status').distinct().show()\n",
    "classes_count = df.select('Status').distinct().count()\n",
    "print (\"There are \", classes_count, \" classes in target column\")"
   ]
  },
  {
   "cell_type": "code",
   "execution_count": 8,
   "id": "d17a9970",
   "metadata": {},
   "outputs": [
    {
     "name": "stdout",
     "output_type": "stream",
     "text": [
      "+---------+-----+\n",
      "|   Status|count|\n",
      "+---------+-----+\n",
      "|     Good|    1|\n",
      "|     Fair|    5|\n",
      "|Very Poor|   55|\n",
      "|     Poor|   41|\n",
      "+---------+-----+\n",
      "\n"
     ]
    }
   ],
   "source": [
    "# Counting the classes distribution\n",
    "df.groupBy('Status').count().show()"
   ]
  },
  {
   "cell_type": "code",
   "execution_count": null,
   "id": "0e430039",
   "metadata": {},
   "outputs": [],
   "source": []
  },
  {
   "cell_type": "markdown",
   "id": "12850a1a",
   "metadata": {},
   "source": [
    "# Feature Extraction"
   ]
  },
  {
   "cell_type": "markdown",
   "id": "5e453078",
   "metadata": {},
   "source": [
    "## Correlations between independent variables."
   ]
  },
  {
   "cell_type": "code",
   "execution_count": 9,
   "id": "64860e40",
   "metadata": {},
   "outputs": [
    {
     "data": {
      "image/png": "[encoded data removed]",
      "text/plain": [
       "<Figure size 576x576 with 36 Axes>"
      ]
     },
     "metadata": {
      "needs_background": "light"
     },
     "output_type": "display_data"
    }
   ],
   "source": [
    "import pandas as pd\n",
    "\n",
    "numeric_data = df.select(numeric_features).toPandas()\n",
    "axs = pd.plotting.scatter_matrix(numeric_data, figsize=(8, 8));\n",
    "n = len(numeric_data.columns)\n",
    "for i in range(n):\n",
    "    v = axs[i, 0]\n",
    "    v.yaxis.label.set_rotation(0)\n",
    "    v.yaxis.label.set_ha('right')\n",
    "    v.set_yticks(())\n",
    "    h = axs[n-1, i]\n",
    "    h.xaxis.label.set_rotation(90)\n",
    "    h.set_xticks(())"
   ]
  },
  {
   "cell_type": "markdown",
   "id": "f739a49e",
   "metadata": {},
   "source": [
    "From the above correlation matrix it can be seen that the WQI and pH have positive correlation and hence one of these feature can be removed."
   ]
  },
  {
   "cell_type": "markdown",
   "id": "33c9bb1e",
   "metadata": {},
   "source": [
    "## Machine Learning"
   ]
  },
  {
   "cell_type": "markdown",
   "id": "3172ee5f",
   "metadata": {},
   "source": [
    "## Preparing data for machine learning\n",
    "The process includes Category Indexing, One-Hot Encoding and VectorAssembler — a feature transformer that merges multiple columns into a vector column."
   ]
  },
  {
   "cell_type": "code",
   "execution_count": 10,
   "id": "ce1e1901",
   "metadata": {},
   "outputs": [],
   "source": [
    "from pyspark.ml.feature import StringIndexer\n",
    "from pyspark.ml.feature import VectorAssembler\n",
    "stages = []\n",
    "\n",
    "indexer = StringIndexer(inputCol=\"Status\", outputCol=\"label\")\n",
    "stages += [indexer]\n",
    "\n",
    "assemblerInputs = numeric_features\n",
    "assembler = VectorAssembler(inputCols=assemblerInputs, outputCol=\"features\")\n",
    "stages += [assembler]"
   ]
  },
  {
   "cell_type": "code",
   "execution_count": 11,
   "id": "db04bf90",
   "metadata": {},
   "outputs": [
    {
     "name": "stdout",
     "output_type": "stream",
     "text": [
      "root\n",
      " |-- label: double (nullable = false)\n",
      " |-- features: vector (nullable = true)\n",
      "\n"
     ]
    }
   ],
   "source": [
    "from pyspark.ml import Pipeline\n",
    "pipeline = Pipeline(stages = stages)\n",
    "pipelineModel = pipeline.fit(df)\n",
    "df = pipelineModel.transform(df)\n",
    "selectedCols = ['label', 'features']\n",
    "df = df.select(selectedCols)\n",
    "df.printSchema()"
   ]
  },
  {
   "cell_type": "code",
   "execution_count": 73,
   "id": "7581aff5",
   "metadata": {},
   "outputs": [],
   "source": [
    "import random\n",
    "import numpy as np\n",
    "from functools import reduce\n",
    "import pyspark.sql.functions as F\n",
    "from pyspark.sql import Row\n",
    "from pyspark.sql.functions import rand,col,when,concat,substring,lit,udf,lower,sum as ps_sum,count as ps_count,row_number\n",
    "from pyspark.sql.window import *\n",
    "from pyspark.sql import DataFrame\n",
    "from pyspark.ml.feature import VectorAssembler,BucketedRandomProjectionLSH,VectorSlicer\n",
    "from pyspark.sql.window import Window\n",
    "from pyspark.ml.linalg import Vectors,VectorUDT\n",
    "from pyspark.sql.functions import array, create_map, struct\n",
    "from pyspark.sql.types import ArrayType, FloatType\n",
    "\n",
    "\n",
    "def smote(vectorized_sdf,smote_config, min_, maj_):\n",
    "    '''\n",
    "    contains logic to perform smote oversampling, given a spark df with 2 classes\n",
    "    inputs:\n",
    "    * vectorized_sdf: cat cols are already stringindexed, num cols are assembled into 'features' vector\n",
    "      df target col should be 'label'\n",
    "    * smote_config: config obj containing smote parameters\n",
    "    output:\n",
    "    * oversampled_df: spark df after smote oversampling\n",
    "    '''\n",
    "    dataInput_min = vectorized_sdf[vectorized_sdf['label'] == min_]\n",
    "    dataInput_maj = vectorized_sdf[vectorized_sdf['label'] == maj_]\n",
    "    \n",
    "    # LSH, bucketed random projection\n",
    "    brp = BucketedRandomProjectionLSH(inputCol=\"features\", outputCol=\"hashes\",seed=smote_config.seed, bucketLength=smote_config.bucketLength)\n",
    "    # smote only applies on existing minority instances    \n",
    "    model = brp.fit(dataInput_min)\n",
    "    model.transform(dataInput_min)\n",
    "    \n",
    "    # here distance is calculated from brp's param inputCol\n",
    "    self_join_w_distance = model.approxSimilarityJoin(dataInput_min, dataInput_min, float(\"inf\"), distCol=\"EuclideanDistance\")\n",
    "    \n",
    "    # remove self-comparison (distance 0)\n",
    "    self_join_w_distance = self_join_w_distance.filter(self_join_w_distance.EuclideanDistance > 0)\n",
    "    \n",
    "    over_original_rows = Window.partitionBy(\"datasetA\").orderBy(\"EuclideanDistance\")\n",
    "    \n",
    "    self_similarity_df = self_join_w_distance.withColumn(\"r_num\", F.row_number().over(over_original_rows))\n",
    "    \n",
    "    self_similarity_df_selected = self_similarity_df.filter(self_similarity_df.r_num <= smote_config.k)\n",
    "\n",
    "    over_original_rows_no_order = Window.partitionBy('datasetA')\n",
    "\n",
    "    # list to store batches of synthetic data\n",
    "    res = []\n",
    "    \n",
    "    # two udf for vector add and subtract, subtraction include a random factor [0,1]\n",
    "    subtract_vector_udf = F.udf(lambda arr: random.uniform(0, 1)*(arr[0]-arr[1]), VectorUDT())\n",
    "    add_vector_udf = F.udf(lambda arr: arr[0]+arr[1], VectorUDT())\n",
    "    \n",
    "    @udf(returnType=VectorUDT())\n",
    "    def trimFeatures (arr):\n",
    "        return Vectors.dense(arr.round(decimals=5))\n",
    "    \n",
    "    # retain original columns\n",
    "    original_cols = dataInput_min.columns\n",
    "    \n",
    "    for i in range(smote_config.multiplier):\n",
    "        print(\"generating batch %s of synthetic instances\"%i)\n",
    "        # logic to randomly select neighbour: pick the largest random number generated row as the neighbour\n",
    "        df_random_sel = self_similarity_df_selected.withColumn(\"rand\", F.rand()).withColumn('max_rand', F.max('rand').over(over_original_rows_no_order))\\\n",
    "                            .where(F.col('rand') == F.col('max_rand')).drop(*['max_rand','rand','r_num'])\n",
    "        \n",
    "        # create synthetic feature numerical part\n",
    "        df_vec_diff = df_random_sel.select('*', subtract_vector_udf(F.array('datasetA.features', 'datasetB.features')).alias('vec_diff'))\n",
    "        df_vec_modified = df_vec_diff.select('*', add_vector_udf(F.array('datasetA.features', 'vec_diff')).alias('features'))\n",
    "        \n",
    "        # for categorical cols, either pick original or the neighbour's cat values\n",
    "        for c in original_cols:\n",
    "            # randomly select neighbour or original data\n",
    "            col_sub = random.choice(['datasetA','datasetB'])\n",
    "            val = \"{0}.{1}\".format(col_sub,c)\n",
    "            if c != 'features':\n",
    "                # do not unpack original numerical features\n",
    "                df_vec_modified = df_vec_modified.withColumn(c,F.col(val))\n",
    "        \n",
    "        # this df_vec_modified is the synthetic minority instances,\n",
    "        df_vec_modified = df_vec_modified.drop(*['datasetA','datasetB','vec_diff','EuclideanDistance'])\n",
    "        \n",
    "        res.append(df_vec_modified)\n",
    "    \n",
    "    dfunion = reduce(DataFrame.unionAll, res)\n",
    "    # union synthetic instances with original full (both minority and majority) df\n",
    "    oversampled_df = dfunion.union(vectorized_sdf.select(dfunion.columns))\n",
    "    #oversampled_df_ = oversampled_df.withColumn('features_', trimFeatures('features'))\n",
    "    oversampled_df_ = oversampled_df.select(col('label'), trimFeatures(col('features')).alias(\"features\"))\n",
    "    return oversampled_df_"
   ]
  },
  {
   "cell_type": "code",
   "execution_count": 13,
   "id": "71984067",
   "metadata": {},
   "outputs": [
    {
     "name": "stdout",
     "output_type": "stream",
     "text": [
      "+-----+-----+\n",
      "|label|count|\n",
      "+-----+-----+\n",
      "|  0.0|   55|\n",
      "|  1.0|   41|\n",
      "|  3.0|    1|\n",
      "|  2.0|    5|\n",
      "+-----+-----+\n",
      "\n",
      "+-----------------------------------------------------------------+\n",
      "|features                                                         |\n",
      "+-----------------------------------------------------------------+\n",
      "|[8.63052641,8.879727,0.08482218,0.04469828,22.650238,20.50452959]|\n",
      "+-----------------------------------------------------------------+\n",
      "only showing top 1 row\n",
      "\n"
     ]
    }
   ],
   "source": [
    "df.groupBy('label').count().show()\n",
    "df.select('features').show(1, 0)"
   ]
  },
  {
   "cell_type": "code",
   "execution_count": 74,
   "id": "5451c66e",
   "metadata": {},
   "outputs": [
    {
     "name": "stdout",
     "output_type": "stream",
     "text": [
      "generating batch 0 of synthetic instances\n",
      "generating batch 1 of synthetic instances\n",
      "generating batch 2 of synthetic instances\n",
      "root\n",
      " |-- label: double (nullable = false)\n",
      " |-- features: vector (nullable = true)\n",
      "\n",
      "+-----+--------------------------------------------------+\n",
      "|label|features                                          |\n",
      "+-----+--------------------------------------------------+\n",
      "|2.0  |[8.63053,8.87973,0.08482,0.0447,22.65024,20.50453]|\n",
      "+-----+--------------------------------------------------+\n",
      "only showing top 1 row\n",
      "\n"
     ]
    }
   ],
   "source": [
    "class smoteConfig:\n",
    "    def __init__ (self, seed=127, bucketLength = 128, k=2, multiplier=3):\n",
    "        self.seed = seed\n",
    "        self.bucketLength = bucketLength\n",
    "        self.k = k\n",
    "        self.multiplier = multiplier\n",
    "sC = smoteConfig()\n",
    "df1 = smote (df, sC, 4.0, 0.0)\n",
    "df1.printSchema()\n",
    "df1.show(1, 0)"
   ]
  },
  {
   "cell_type": "code",
   "execution_count": 75,
   "id": "24509c77",
   "metadata": {},
   "outputs": [
    {
     "name": "stdout",
     "output_type": "stream",
     "text": [
      "+-----+-----+\n",
      "|label|count|\n",
      "+-----+-----+\n",
      "|  0.0|   55|\n",
      "|  1.0|   41|\n",
      "|  3.0|    1|\n",
      "|  2.0|    5|\n",
      "+-----+-----+\n",
      "\n",
      "+--------------------------------------------------+\n",
      "|features                                          |\n",
      "+--------------------------------------------------+\n",
      "|[8.63053,8.87973,0.08482,0.0447,22.65024,20.50453]|\n",
      "+--------------------------------------------------+\n",
      "only showing top 1 row\n",
      "\n"
     ]
    }
   ],
   "source": [
    "df1.groupBy('label').count().show()\n",
    "df1.select('features').show(1, 0)"
   ]
  },
  {
   "cell_type": "code",
   "execution_count": 76,
   "id": "e39d6a22",
   "metadata": {},
   "outputs": [
    {
     "name": "stdout",
     "output_type": "stream",
     "text": [
      "generating batch 0 of synthetic instances\n",
      "generating batch 1 of synthetic instances\n",
      "generating batch 2 of synthetic instances\n"
     ]
    }
   ],
   "source": [
    "df2 = smote (df1, sC, 3.0, 0.0)"
   ]
  },
  {
   "cell_type": "code",
   "execution_count": 77,
   "id": "49cc03f2",
   "metadata": {},
   "outputs": [
    {
     "name": "stderr",
     "output_type": "stream",
     "text": [
      "                                                                                \r"
     ]
    },
    {
     "name": "stdout",
     "output_type": "stream",
     "text": [
      "generating batch 0 of synthetic instances\n",
      "generating batch 1 of synthetic instances\n",
      "generating batch 2 of synthetic instances\n"
     ]
    }
   ],
   "source": [
    "df3 = smote (df2, sC, 2.0, 0.0)"
   ]
  },
  {
   "cell_type": "code",
   "execution_count": 78,
   "id": "c1c9a698",
   "metadata": {},
   "outputs": [],
   "source": [
    "df = df3"
   ]
  },
  {
   "cell_type": "code",
   "execution_count": 81,
   "id": "389db11f",
   "metadata": {},
   "outputs": [
    {
     "name": "stderr",
     "output_type": "stream",
     "text": [
      "[Stage 229:====================================================>(597 + 4) / 601]\r"
     ]
    },
    {
     "name": "stdout",
     "output_type": "stream",
     "text": [
      "22/11/25 19:28:54 WARN DAGScheduler: Broadcasting large task binary with size 1005.3 KiB\n"
     ]
    },
    {
     "name": "stderr",
     "output_type": "stream",
     "text": [
      "\r",
      "[Stage 237:========================================>                (5 + 2) / 7]\r",
      "\r",
      "                                                                                \r"
     ]
    },
    {
     "name": "stdout",
     "output_type": "stream",
     "text": [
      "22/11/25 19:28:55 WARN DAGScheduler: Broadcasting large task binary with size 1217.9 KiB\n"
     ]
    },
    {
     "name": "stderr",
     "output_type": "stream",
     "text": [
      "                                                                                \r"
     ]
    },
    {
     "data": {
      "text/plain": [
       "117"
      ]
     },
     "execution_count": 81,
     "metadata": {},
     "output_type": "execute_result"
    }
   ],
   "source": [
    "df.count()"
   ]
  },
  {
   "cell_type": "markdown",
   "id": "30fbd6bc",
   "metadata": {},
   "source": [
    "We have now feature columns and label columns.\n",
    "\n",
    "Now, data is splitted randomly into train and test sets, and set seed for reproducibility"
   ]
  },
  {
   "cell_type": "code",
   "execution_count": 82,
   "id": "fa5b2d42",
   "metadata": {},
   "outputs": [
    {
     "name": "stderr",
     "output_type": "stream",
     "text": [
      "[Stage 268:====================================================>(597 + 4) / 601]\r"
     ]
    },
    {
     "name": "stdout",
     "output_type": "stream",
     "text": [
      "22/11/25 19:31:51 WARN DAGScheduler: Broadcasting large task binary with size 1005.3 KiB\n"
     ]
    },
    {
     "name": "stderr",
     "output_type": "stream",
     "text": [
      "\r",
      "                                                                                \r"
     ]
    },
    {
     "name": "stdout",
     "output_type": "stream",
     "text": [
      "22/11/25 19:31:52 WARN DAGScheduler: Broadcasting large task binary with size 1217.9 KiB\n"
     ]
    },
    {
     "name": "stderr",
     "output_type": "stream",
     "text": [
      "[Stage 279:==================================================>(1200 + 1) / 1201]\r"
     ]
    },
    {
     "name": "stdout",
     "output_type": "stream",
     "text": [
      "22/11/25 19:33:30 WARN DAGScheduler: Broadcasting large task binary with size 1247.6 KiB\n"
     ]
    },
    {
     "name": "stderr",
     "output_type": "stream",
     "text": [
      "\r",
      "                                                                                \r"
     ]
    },
    {
     "name": "stdout",
     "output_type": "stream",
     "text": [
      "Training Dataset Count: 84\n"
     ]
    },
    {
     "name": "stderr",
     "output_type": "stream",
     "text": [
      "[Stage 302:====================================================>(593 + 8) / 601]\r"
     ]
    },
    {
     "name": "stdout",
     "output_type": "stream",
     "text": [
      "22/11/25 19:34:30 WARN DAGScheduler: Broadcasting large task binary with size 1005.3 KiB\n"
     ]
    },
    {
     "name": "stderr",
     "output_type": "stream",
     "text": [
      "\r",
      "                                                                                \r"
     ]
    },
    {
     "name": "stdout",
     "output_type": "stream",
     "text": [
      "22/11/25 19:34:31 WARN DAGScheduler: Broadcasting large task binary with size 1217.9 KiB\n"
     ]
    },
    {
     "name": "stderr",
     "output_type": "stream",
     "text": [
      "[Stage 313:==================================================>(1196 + 5) / 1201]\r"
     ]
    },
    {
     "name": "stdout",
     "output_type": "stream",
     "text": [
      "22/11/25 19:36:09 WARN DAGScheduler: Broadcasting large task binary with size 1247.6 KiB\n",
      "Test Dataset Count: 33\n"
     ]
    },
    {
     "name": "stderr",
     "output_type": "stream",
     "text": [
      "\r",
      "                                                                                \r"
     ]
    }
   ],
   "source": [
    "train, test = df.randomSplit([0.7, 0.3], seed = 2018)\n",
    "print(\"Training Dataset Count: \" + str(train.count()))\n",
    "print(\"Test Dataset Count: \" + str(test.count()))\n",
    "#df.groupBy('label').count().show()"
   ]
  },
  {
   "cell_type": "markdown",
   "id": "0b203cb9",
   "metadata": {},
   "source": [
    "## Logistic Regression Classifier"
   ]
  },
  {
   "cell_type": "code",
   "execution_count": 83,
   "id": "c69e1fb1",
   "metadata": {},
   "outputs": [
    {
     "name": "stderr",
     "output_type": "stream",
     "text": [
      "[Stage 336:====================================================>(600 + 1) / 601]\r"
     ]
    },
    {
     "name": "stdout",
     "output_type": "stream",
     "text": [
      "22/11/25 19:37:07 WARN DAGScheduler: Broadcasting large task binary with size 1004.4 KiB\n"
     ]
    },
    {
     "name": "stderr",
     "output_type": "stream",
     "text": [
      "\r",
      "                                                                                \r"
     ]
    },
    {
     "name": "stdout",
     "output_type": "stream",
     "text": [
      "22/11/25 19:37:08 WARN DAGScheduler: Broadcasting large task binary with size 1216.7 KiB\n"
     ]
    },
    {
     "name": "stderr",
     "output_type": "stream",
     "text": [
      "[Stage 357:====================================================>(595 + 6) / 601]\r"
     ]
    },
    {
     "name": "stdout",
     "output_type": "stream",
     "text": [
      "22/11/25 19:39:41 WARN DAGScheduler: Broadcasting large task binary with size 1004.4 KiB\n"
     ]
    },
    {
     "name": "stderr",
     "output_type": "stream",
     "text": [
      "\r",
      "                                                                                \r"
     ]
    },
    {
     "name": "stdout",
     "output_type": "stream",
     "text": [
      "22/11/25 19:39:43 WARN DAGScheduler: Broadcasting large task binary with size 1216.7 KiB\n"
     ]
    },
    {
     "name": "stderr",
     "output_type": "stream",
     "text": [
      "[Stage 368:==================================================>(1195 + 6) / 1201]\r"
     ]
    },
    {
     "name": "stdout",
     "output_type": "stream",
     "text": [
      "22/11/25 19:41:36 WARN DAGScheduler: Broadcasting large task binary with size 1257.1 KiB\n",
      "22/11/25 19:41:37 WARN DAGScheduler: Broadcasting large task binary with size 1258.2 KiB\n"
     ]
    },
    {
     "name": "stderr",
     "output_type": "stream",
     "text": [
      "\r",
      "                                                                                \r"
     ]
    },
    {
     "name": "stdout",
     "output_type": "stream",
     "text": [
      "22/11/25 19:41:37 WARN DAGScheduler: Broadcasting large task binary with size 1258.6 KiB\n"
     ]
    },
    {
     "name": "stderr",
     "output_type": "stream",
     "text": [
      "\r",
      "[Stage 386:================>                                       (3 + 7) / 10]\r",
      "\r",
      "[Stage 386:==================================================>     (9 + 1) / 10]\r"
     ]
    },
    {
     "name": "stdout",
     "output_type": "stream",
     "text": [
      "22/11/25 19:41:38 WARN DAGScheduler: Broadcasting large task binary with size 1259.7 KiB\n",
      "22/11/25 19:41:38 WARN DAGScheduler: Broadcasting large task binary with size 1258.6 KiB\n"
     ]
    },
    {
     "name": "stderr",
     "output_type": "stream",
     "text": [
      "\r",
      "                                                                                \r"
     ]
    },
    {
     "name": "stdout",
     "output_type": "stream",
     "text": [
      "22/11/25 19:41:38 WARN DAGScheduler: Broadcasting large task binary with size 1259.7 KiB\n",
      "22/11/25 19:41:38 WARN DAGScheduler: Broadcasting large task binary with size 1258.6 KiB\n",
      "22/11/25 19:41:39 WARN DAGScheduler: Broadcasting large task binary with size 1259.7 KiB\n",
      "22/11/25 19:41:39 WARN DAGScheduler: Broadcasting large task binary with size 1258.6 KiB\n",
      "22/11/25 19:41:39 WARN DAGScheduler: Broadcasting large task binary with size 1259.7 KiB\n",
      "22/11/25 19:41:39 WARN DAGScheduler: Broadcasting large task binary with size 1258.6 KiB\n",
      "22/11/25 19:41:39 WARN DAGScheduler: Broadcasting large task binary with size 1259.7 KiB\n",
      "22/11/25 19:41:39 WARN DAGScheduler: Broadcasting large task binary with size 1258.6 KiB\n",
      "22/11/25 19:41:39 WARN DAGScheduler: Broadcasting large task binary with size 1259.7 KiB\n",
      "22/11/25 19:41:39 WARN DAGScheduler: Broadcasting large task binary with size 1258.6 KiB\n",
      "22/11/25 19:41:39 WARN DAGScheduler: Broadcasting large task binary with size 1259.7 KiB\n",
      "22/11/25 19:41:39 WARN DAGScheduler: Broadcasting large task binary with size 1258.6 KiB\n",
      "22/11/25 19:41:39 WARN DAGScheduler: Broadcasting large task binary with size 1259.7 KiB\n",
      "22/11/25 19:41:39 WARN DAGScheduler: Broadcasting large task binary with size 1258.6 KiB\n",
      "22/11/25 19:41:39 WARN DAGScheduler: Broadcasting large task binary with size 1259.7 KiB\n",
      "22/11/25 19:41:39 WARN DAGScheduler: Broadcasting large task binary with size 1258.6 KiB\n",
      "22/11/25 19:41:40 WARN DAGScheduler: Broadcasting large task binary with size 1259.7 KiB\n",
      "22/11/25 19:41:40 WARN DAGScheduler: Broadcasting large task binary with size 1258.6 KiB\n",
      "22/11/25 19:41:40 WARN DAGScheduler: Broadcasting large task binary with size 1259.7 KiB\n"
     ]
    },
    {
     "name": "stderr",
     "output_type": "stream",
     "text": [
      "[Stage 462:====================================================>(595 + 6) / 601]\r"
     ]
    },
    {
     "name": "stdout",
     "output_type": "stream",
     "text": [
      "22/11/25 19:42:30 WARN DAGScheduler: Broadcasting large task binary with size 1004.4 KiB\n"
     ]
    },
    {
     "name": "stderr",
     "output_type": "stream",
     "text": [
      "\r",
      "[Stage 469:================================================>        (6 + 1) / 7]\r",
      "\r",
      "                                                                                \r"
     ]
    },
    {
     "name": "stdout",
     "output_type": "stream",
     "text": [
      "22/11/25 19:42:31 WARN DAGScheduler: Broadcasting large task binary with size 1216.7 KiB\n"
     ]
    },
    {
     "name": "stderr",
     "output_type": "stream",
     "text": [
      "[Stage 473:==================================================>(1197 + 4) / 1201]\r"
     ]
    }
   ],
   "source": [
    "from pyspark.ml.classification import LogisticRegression\n",
    "lr = LogisticRegression(featuresCol = 'features', labelCol = 'label', maxIter=10, regParam=0.0, elasticNetParam=0.8)\n",
    "lrModel = lr.fit(train)"
   ]
  },
  {
   "cell_type": "code",
   "execution_count": 84,
   "id": "de6ad72b",
   "metadata": {},
   "outputs": [
    {
     "name": "stderr",
     "output_type": "stream",
     "text": [
      "[Stage 483:====================================================>(596 + 5) / 601]\r"
     ]
    },
    {
     "name": "stdout",
     "output_type": "stream",
     "text": [
      "22/11/25 19:45:05 WARN DAGScheduler: Broadcasting large task binary with size 1005.3 KiB\n"
     ]
    },
    {
     "name": "stderr",
     "output_type": "stream",
     "text": [
      "\r",
      "                                                                                \r"
     ]
    },
    {
     "name": "stdout",
     "output_type": "stream",
     "text": [
      "22/11/25 19:45:07 WARN DAGScheduler: Broadcasting large task binary with size 1217.6 KiB\n"
     ]
    },
    {
     "name": "stderr",
     "output_type": "stream",
     "text": [
      "[Stage 494:==================================================>(1196 + 5) / 1201]\r"
     ]
    },
    {
     "name": "stdout",
     "output_type": "stream",
     "text": [
      "22/11/25 19:46:45 WARN DAGScheduler: Broadcasting large task binary with size 1276.3 KiB\n"
     ]
    },
    {
     "name": "stderr",
     "output_type": "stream",
     "text": [
      "\r",
      "[Stage 505:============================================>           (8 + 2) / 10]\r"
     ]
    },
    {
     "name": "stdout",
     "output_type": "stream",
     "text": [
      "+----------+-----+\n",
      "|prediction|count|\n",
      "+----------+-----+\n",
      "|       1.0|   14|\n",
      "|       2.0|    3|\n",
      "|       0.0|   16|\n",
      "+----------+-----+\n",
      "\n"
     ]
    },
    {
     "name": "stderr",
     "output_type": "stream",
     "text": [
      "\r",
      "                                                                                \r"
     ]
    }
   ],
   "source": [
    "predictions = lrModel.transform(test)\n",
    "predictions.groupBy(\"prediction\").count().show()"
   ]
  },
  {
   "cell_type": "code",
   "execution_count": 85,
   "id": "9700587e",
   "metadata": {},
   "outputs": [
    {
     "name": "stderr",
     "output_type": "stream",
     "text": [
      "[Stage 517:====================================================>(599 + 2) / 601]\r"
     ]
    },
    {
     "name": "stdout",
     "output_type": "stream",
     "text": [
      "22/11/25 19:47:43 WARN DAGScheduler: Broadcasting large task binary with size 1004.4 KiB\n"
     ]
    },
    {
     "name": "stderr",
     "output_type": "stream",
     "text": [
      "\r",
      "[Stage 524:================================>                        (4 + 3) / 7]\r",
      "\r",
      "                                                                                \r"
     ]
    },
    {
     "name": "stdout",
     "output_type": "stream",
     "text": [
      "22/11/25 19:47:45 WARN DAGScheduler: Broadcasting large task binary with size 1216.3 KiB\n"
     ]
    },
    {
     "name": "stderr",
     "output_type": "stream",
     "text": [
      "[Stage 528:==================================================>(1197 + 4) / 1201]\r"
     ]
    },
    {
     "name": "stdout",
     "output_type": "stream",
     "text": [
      "22/11/25 19:49:22 WARN DAGScheduler: Broadcasting large task binary with size 1276.8 KiB\n",
      "Test Area under ROC:  0.8993939393939394\n"
     ]
    },
    {
     "name": "stderr",
     "output_type": "stream",
     "text": [
      "\r",
      "                                                                                \r"
     ]
    }
   ],
   "source": [
    "from pyspark.ml.evaluation import MulticlassClassificationEvaluator\n",
    "evaluator = MulticlassClassificationEvaluator()\n",
    "evaluator.setLabelCol(\"label\")\n",
    "evaluator.setPredictionCol (\"prediction\")\n",
    "print(\"Test Area under ROC: \", evaluator.evaluate (predictions))"
   ]
  },
  {
   "cell_type": "code",
   "execution_count": 86,
   "id": "403c9c25",
   "metadata": {},
   "outputs": [
    {
     "name": "stderr",
     "output_type": "stream",
     "text": [
      "[Stage 545:====================================================>(598 + 3) / 601]\r"
     ]
    },
    {
     "name": "stdout",
     "output_type": "stream",
     "text": [
      "22/11/25 19:50:19 WARN DAGScheduler: Broadcasting large task binary with size 1004.4 KiB\n"
     ]
    },
    {
     "name": "stderr",
     "output_type": "stream",
     "text": [
      "\r",
      "[Stage 552:========================>                                (3 + 4) / 7]\r",
      "\r",
      "                                                                                \r"
     ]
    },
    {
     "name": "stdout",
     "output_type": "stream",
     "text": [
      "22/11/25 19:50:20 WARN DAGScheduler: Broadcasting large task binary with size 1216.7 KiB\n"
     ]
    },
    {
     "name": "stderr",
     "output_type": "stream",
     "text": [
      "/home/nikhil/.local/lib/python3.10/site-packages/pyspark/sql/context.py:157: FutureWarning: Deprecated in 3.0.0. Use SparkSession.builder.getOrCreate() instead.\n",
      "  warnings.warn(\n"
     ]
    },
    {
     "name": "stdout",
     "output_type": "stream",
     "text": [
      "22/11/25 19:51:59 WARN DAGScheduler: Broadcasting large task binary with size 1266.5 KiB\n"
     ]
    },
    {
     "name": "stderr",
     "output_type": "stream",
     "text": [
      "\r",
      "[Stage 567:>                                                        (0 + 1) / 1]\r",
      "\r",
      "                                                                                \r"
     ]
    }
   ],
   "source": [
    "from pyspark.mllib.evaluation import MulticlassMetrics\n",
    "preds_and_labels = predictions.select(['prediction','label'])\n",
    "metrics = MulticlassMetrics(preds_and_labels.rdd.map(tuple))"
   ]
  },
  {
   "cell_type": "code",
   "execution_count": 87,
   "id": "36fdb6c9",
   "metadata": {},
   "outputs": [
    {
     "name": "stdout",
     "output_type": "stream",
     "text": [
      "22/11/25 19:52:00 WARN DAGScheduler: Broadcasting large task binary with size 1276.9 KiB\n"
     ]
    },
    {
     "name": "stderr",
     "output_type": "stream",
     "text": [
      "\r",
      "[Stage 573:>                                                       (0 + 8) / 10]\r",
      "\r",
      "[Stage 573:=================================>                      (6 + 4) / 10]\r"
     ]
    },
    {
     "name": "stdout",
     "output_type": "stream",
     "text": [
      "DenseMatrix([[16.,  0.,  0.],\n",
      "             [ 0., 11.,  0.],\n",
      "             [ 0.,  3.,  3.]])\n"
     ]
    },
    {
     "name": "stderr",
     "output_type": "stream",
     "text": [
      "\r",
      "                                                                                \r"
     ]
    }
   ],
   "source": [
    "print(metrics.confusionMatrix())"
   ]
  },
  {
   "cell_type": "code",
   "execution_count": 88,
   "id": "92e4f916",
   "metadata": {},
   "outputs": [
    {
     "name": "stdout",
     "output_type": "stream",
     "text": [
      "Weighted recall = 0.9090909090909091\n",
      "Weighted precision = 0.9285714285714286\n",
      "Weighted F(1) Score = 0.8993939393939394\n",
      "Weighted F(0.5) Score = 0.9099954771596562\n",
      "Weighted false positive rate = 0.045454545454545456\n"
     ]
    }
   ],
   "source": [
    "\n",
    "# Weighted stats\n",
    "print(\"Weighted recall = %s\" % metrics.weightedRecall)\n",
    "print(\"Weighted precision = %s\" % metrics.weightedPrecision)\n",
    "print(\"Weighted F(1) Score = %s\" % metrics.weightedFMeasure())\n",
    "print(\"Weighted F(0.5) Score = %s\" % metrics.weightedFMeasure(beta=0.5))\n",
    "print(\"Weighted false positive rate = %s\" % metrics.weightedFalsePositiveRate)"
   ]
  },
  {
   "cell_type": "markdown",
   "id": "32462b9e",
   "metadata": {},
   "source": [
    "## Decision Tree Classifier"
   ]
  },
  {
   "cell_type": "code",
   "execution_count": 89,
   "id": "438b1c13",
   "metadata": {},
   "outputs": [
    {
     "name": "stderr",
     "output_type": "stream",
     "text": [
      "[Stage 579:====================================================>(594 + 7) / 601]\r"
     ]
    },
    {
     "name": "stdout",
     "output_type": "stream",
     "text": [
      "22/11/25 19:52:58 WARN DAGScheduler: Broadcasting large task binary with size 1004.4 KiB\n"
     ]
    },
    {
     "name": "stderr",
     "output_type": "stream",
     "text": [
      "\r",
      "                                                                                \r"
     ]
    },
    {
     "name": "stdout",
     "output_type": "stream",
     "text": [
      "22/11/25 19:52:59 WARN DAGScheduler: Broadcasting large task binary with size 1216.3 KiB\n"
     ]
    },
    {
     "name": "stderr",
     "output_type": "stream",
     "text": [
      "[Stage 600:====================================================>(595 + 6) / 601]\r"
     ]
    },
    {
     "name": "stdout",
     "output_type": "stream",
     "text": [
      "22/11/25 19:55:34 WARN DAGScheduler: Broadcasting large task binary with size 1004.4 KiB\n"
     ]
    },
    {
     "name": "stderr",
     "output_type": "stream",
     "text": [
      "\r",
      "[Stage 607:================================>                        (4 + 3) / 7]\r",
      "\r",
      "                                                                                \r"
     ]
    },
    {
     "name": "stdout",
     "output_type": "stream",
     "text": [
      "22/11/25 19:55:35 WARN DAGScheduler: Broadcasting large task binary with size 1216.7 KiB\n"
     ]
    },
    {
     "name": "stderr",
     "output_type": "stream",
     "text": [
      "[Stage 611:==================================================>(1198 + 3) / 1201]\r"
     ]
    },
    {
     "name": "stdout",
     "output_type": "stream",
     "text": [
      "22/11/25 19:57:15 WARN DAGScheduler: Broadcasting large task binary with size 1254.7 KiB\n",
      "22/11/25 19:57:15 WARN DAGScheduler: Broadcasting large task binary with size 1254.8 KiB\n"
     ]
    },
    {
     "name": "stderr",
     "output_type": "stream",
     "text": [
      "\r",
      "                                                                                \r"
     ]
    },
    {
     "name": "stdout",
     "output_type": "stream",
     "text": [
      "22/11/25 19:57:16 WARN DAGScheduler: Broadcasting large task binary with size 1258.2 KiB\n",
      "22/11/25 19:57:16 WARN DAGScheduler: Broadcasting large task binary with size 1259.4 KiB\n",
      "22/11/25 19:57:17 WARN DAGScheduler: Broadcasting large task binary with size 1260.2 KiB\n",
      "22/11/25 19:57:17 WARN DAGScheduler: Broadcasting large task binary with size 1260.5 KiB\n",
      "22/11/25 19:57:17 WARN DAGScheduler: Broadcasting large task binary with size 1260.8 KiB\n",
      "22/11/25 19:57:18 WARN DAGScheduler: Broadcasting large task binary with size 1261.3 KiB\n"
     ]
    }
   ],
   "source": [
    "from pyspark.ml.classification import DecisionTreeClassifier\n",
    "dt = DecisionTreeClassifier(featuresCol = 'features', labelCol = 'label', maxDepth = 8)\n",
    "dtModel = dt.fit(train)"
   ]
  },
  {
   "cell_type": "code",
   "execution_count": 90,
   "id": "9748d9ac",
   "metadata": {},
   "outputs": [
    {
     "name": "stderr",
     "output_type": "stream",
     "text": [
      "[Stage 675:====================================================>(596 + 5) / 601]\r"
     ]
    },
    {
     "name": "stdout",
     "output_type": "stream",
     "text": [
      "22/11/25 19:58:19 WARN DAGScheduler: Broadcasting large task binary with size 1005.3 KiB\n"
     ]
    },
    {
     "name": "stderr",
     "output_type": "stream",
     "text": [
      "\r",
      "[Stage 682:================================>                        (4 + 3) / 7]\r",
      "\r",
      "                                                                                \r"
     ]
    },
    {
     "name": "stdout",
     "output_type": "stream",
     "text": [
      "22/11/25 19:58:20 WARN DAGScheduler: Broadcasting large task binary with size 1217.9 KiB\n"
     ]
    },
    {
     "name": "stderr",
     "output_type": "stream",
     "text": [
      "[Stage 686:==================================================>(1199 + 2) / 1201]\r"
     ]
    },
    {
     "name": "stdout",
     "output_type": "stream",
     "text": [
      "22/11/25 19:59:59 WARN DAGScheduler: Broadcasting large task binary with size 1277.0 KiB\n",
      "+----------+-----+\n",
      "|prediction|count|\n",
      "+----------+-----+\n",
      "|       2.0|    5|\n",
      "|       1.0|   12|\n",
      "|       0.0|   16|\n",
      "+----------+-----+\n",
      "\n"
     ]
    },
    {
     "name": "stderr",
     "output_type": "stream",
     "text": [
      "\r",
      "                                                                                \r"
     ]
    }
   ],
   "source": [
    "predictions = dtModel.transform(test)\n",
    "predictions.groupBy(\"prediction\").count().show()"
   ]
  },
  {
   "cell_type": "code",
   "execution_count": 91,
   "id": "f9faad1b",
   "metadata": {},
   "outputs": [
    {
     "name": "stderr",
     "output_type": "stream",
     "text": [
      "[Stage 709:====================================================>(596 + 5) / 601]\r"
     ]
    },
    {
     "name": "stdout",
     "output_type": "stream",
     "text": [
      "22/11/25 20:00:57 WARN DAGScheduler: Broadcasting large task binary with size 1004.4 KiB\n"
     ]
    },
    {
     "name": "stderr",
     "output_type": "stream",
     "text": [
      "\r",
      "                                                                                \r"
     ]
    },
    {
     "name": "stdout",
     "output_type": "stream",
     "text": [
      "22/11/25 20:00:58 WARN DAGScheduler: Broadcasting large task binary with size 1216.7 KiB\n"
     ]
    },
    {
     "name": "stderr",
     "output_type": "stream",
     "text": [
      "[Stage 720:==================================================>(1196 + 5) / 1201]\r"
     ]
    },
    {
     "name": "stdout",
     "output_type": "stream",
     "text": [
      "22/11/25 20:02:36 WARN DAGScheduler: Broadcasting large task binary with size 1277.5 KiB\n",
      "Test Area under ROC:  0.9689783207569769\n"
     ]
    },
    {
     "name": "stderr",
     "output_type": "stream",
     "text": [
      "\r",
      "[Stage 731:==================================================>     (9 + 1) / 10]\r",
      "\r",
      "                                                                                \r"
     ]
    }
   ],
   "source": [
    "evaluator.setLabelCol(\"label\")\n",
    "evaluator.setPredictionCol (\"prediction\")\n",
    "print(\"Test Area under ROC: \", evaluator.evaluate (predictions))"
   ]
  },
  {
   "cell_type": "code",
   "execution_count": 92,
   "id": "7f1bdf31",
   "metadata": {},
   "outputs": [
    {
     "name": "stderr",
     "output_type": "stream",
     "text": [
      "[Stage 737:====================================================>(595 + 6) / 601]\r"
     ]
    },
    {
     "name": "stdout",
     "output_type": "stream",
     "text": [
      "22/11/25 20:03:33 WARN DAGScheduler: Broadcasting large task binary with size 1004.4 KiB\n"
     ]
    },
    {
     "name": "stderr",
     "output_type": "stream",
     "text": [
      "\r",
      "                                                                                \r"
     ]
    },
    {
     "name": "stdout",
     "output_type": "stream",
     "text": [
      "22/11/25 20:03:35 WARN DAGScheduler: Broadcasting large task binary with size 1216.3 KiB\n"
     ]
    },
    {
     "name": "stderr",
     "output_type": "stream",
     "text": [
      "[Stage 748:==================================================>(1200 + 1) / 1201]\r"
     ]
    },
    {
     "name": "stdout",
     "output_type": "stream",
     "text": [
      "22/11/25 20:05:12 WARN DAGScheduler: Broadcasting large task binary with size 1266.6 KiB\n"
     ]
    },
    {
     "name": "stderr",
     "output_type": "stream",
     "text": [
      "\r",
      "                                                                                \r"
     ]
    }
   ],
   "source": [
    "preds_and_labels = predictions.select(['prediction','label'])\n",
    "metrics = MulticlassMetrics(preds_and_labels.rdd.map(tuple))"
   ]
  },
  {
   "cell_type": "code",
   "execution_count": 93,
   "id": "2bbac4d4",
   "metadata": {},
   "outputs": [
    {
     "name": "stdout",
     "output_type": "stream",
     "text": [
      "22/11/25 20:05:13 WARN DAGScheduler: Broadcasting large task binary with size 1277.0 KiB\n",
      "DenseMatrix([[16.,  0.,  0.],\n",
      "             [ 0., 11.,  0.],\n",
      "             [ 0.,  1.,  5.]])\n"
     ]
    },
    {
     "name": "stderr",
     "output_type": "stream",
     "text": [
      "\r",
      "[Stage 765:======================>                                 (4 + 6) / 10]\r",
      "\r",
      "                                                                                \r"
     ]
    }
   ],
   "source": [
    "print(metrics.confusionMatrix())"
   ]
  },
  {
   "cell_type": "code",
   "execution_count": 94,
   "id": "62f730d9",
   "metadata": {},
   "outputs": [
    {
     "name": "stdout",
     "output_type": "stream",
     "text": [
      "Weighted recall = 0.9696969696969697\n",
      "Weighted precision = 0.9722222222222222\n",
      "Weighted F(1) Score = 0.9689783207569769\n",
      "Weighted F(0.5) Score = 0.9704081229504957\n",
      "Weighted false positive rate = 0.015151515151515152\n"
     ]
    }
   ],
   "source": [
    "# Weighted stats\n",
    "print(\"Weighted recall = %s\" % metrics.weightedRecall)\n",
    "print(\"Weighted precision = %s\" % metrics.weightedPrecision)\n",
    "print(\"Weighted F(1) Score = %s\" % metrics.weightedFMeasure())\n",
    "print(\"Weighted F(0.5) Score = %s\" % metrics.weightedFMeasure(beta=0.5))\n",
    "print(\"Weighted false positive rate = %s\" % metrics.weightedFalsePositiveRate)"
   ]
  },
  {
   "cell_type": "markdown",
   "id": "c90829e8",
   "metadata": {},
   "source": [
    "## Random Forest Classifier"
   ]
  },
  {
   "cell_type": "code",
   "execution_count": 95,
   "id": "cb6e3fed",
   "metadata": {},
   "outputs": [
    {
     "name": "stderr",
     "output_type": "stream",
     "text": [
      "[Stage 771:====================================================>(595 + 6) / 601]\r"
     ]
    },
    {
     "name": "stdout",
     "output_type": "stream",
     "text": [
      "22/11/25 20:06:10 WARN DAGScheduler: Broadcasting large task binary with size 1004.4 KiB\n"
     ]
    },
    {
     "name": "stderr",
     "output_type": "stream",
     "text": [
      "\r",
      "                                                                                \r"
     ]
    },
    {
     "name": "stdout",
     "output_type": "stream",
     "text": [
      "22/11/25 20:06:12 WARN DAGScheduler: Broadcasting large task binary with size 1216.3 KiB\n"
     ]
    },
    {
     "name": "stderr",
     "output_type": "stream",
     "text": [
      "[Stage 792:====================================================>(596 + 5) / 601]\r"
     ]
    },
    {
     "name": "stdout",
     "output_type": "stream",
     "text": [
      "22/11/25 20:08:52 WARN DAGScheduler: Broadcasting large task binary with size 1004.4 KiB\n"
     ]
    },
    {
     "name": "stderr",
     "output_type": "stream",
     "text": [
      "\r",
      "[Stage 799:========================>                                (3 + 4) / 7]\r",
      "\r",
      "                                                                                \r"
     ]
    },
    {
     "name": "stdout",
     "output_type": "stream",
     "text": [
      "22/11/25 20:08:54 WARN DAGScheduler: Broadcasting large task binary with size 1216.7 KiB\n"
     ]
    },
    {
     "name": "stderr",
     "output_type": "stream",
     "text": [
      "[Stage 803:==================================================>(1195 + 6) / 1201]\r"
     ]
    },
    {
     "name": "stdout",
     "output_type": "stream",
     "text": [
      "22/11/25 20:10:41 WARN DAGScheduler: Broadcasting large task binary with size 1254.7 KiB\n",
      "22/11/25 20:10:41 WARN DAGScheduler: Broadcasting large task binary with size 1254.8 KiB\n"
     ]
    },
    {
     "name": "stderr",
     "output_type": "stream",
     "text": [
      "\r",
      "                                                                                \r"
     ]
    },
    {
     "name": "stdout",
     "output_type": "stream",
     "text": [
      "22/11/25 20:10:42 WARN DAGScheduler: Broadcasting large task binary with size 1258.2 KiB\n",
      "22/11/25 20:10:42 WARN DAGScheduler: Broadcasting large task binary with size 1261.1 KiB\n",
      "22/11/25 20:10:43 WARN DAGScheduler: Broadcasting large task binary with size 1267.8 KiB\n",
      "22/11/25 20:10:43 WARN DAGScheduler: Broadcasting large task binary with size 1272.4 KiB\n",
      "22/11/25 20:10:43 WARN DAGScheduler: Broadcasting large task binary with size 1272.8 KiB\n",
      "22/11/25 20:10:43 WARN DAGScheduler: Broadcasting large task binary with size 1267.1 KiB\n"
     ]
    },
    {
     "name": "stderr",
     "output_type": "stream",
     "text": [
      "[Stage 867:====================================================>(595 + 6) / 601]\r"
     ]
    },
    {
     "name": "stdout",
     "output_type": "stream",
     "text": [
      "22/11/25 20:11:46 WARN DAGScheduler: Broadcasting large task binary with size 1004.4 KiB\n"
     ]
    },
    {
     "name": "stderr",
     "output_type": "stream",
     "text": [
      "\r",
      "                                                                                \r"
     ]
    },
    {
     "name": "stdout",
     "output_type": "stream",
     "text": [
      "22/11/25 20:11:47 WARN DAGScheduler: Broadcasting large task binary with size 1216.3 KiB\n"
     ]
    },
    {
     "name": "stderr",
     "output_type": "stream",
     "text": [
      "[Stage 878:==================================================>(1195 + 6) / 1201]\r"
     ]
    }
   ],
   "source": [
    "from pyspark.ml.classification import RandomForestClassifier\n",
    "\n",
    "rf = RandomForestClassifier(featuresCol = 'features', labelCol = 'label')\n",
    "rfModel = rf.fit(train)"
   ]
  },
  {
   "cell_type": "code",
   "execution_count": 96,
   "id": "b1e8e6e5",
   "metadata": {},
   "outputs": [
    {
     "name": "stderr",
     "output_type": "stream",
     "text": [
      "[Stage 888:====================================================>(598 + 3) / 601]\r"
     ]
    },
    {
     "name": "stdout",
     "output_type": "stream",
     "text": [
      "22/11/25 20:14:39 WARN DAGScheduler: Broadcasting large task binary with size 1005.3 KiB\n"
     ]
    },
    {
     "name": "stderr",
     "output_type": "stream",
     "text": [
      "\r",
      "[Stage 895:================================>                        (4 + 3) / 7]\r",
      "\r",
      "                                                                                \r"
     ]
    },
    {
     "name": "stdout",
     "output_type": "stream",
     "text": [
      "22/11/25 20:14:41 WARN DAGScheduler: Broadcasting large task binary with size 1217.6 KiB\n"
     ]
    },
    {
     "name": "stderr",
     "output_type": "stream",
     "text": [
      "[Stage 899:==================================================>(1199 + 2) / 1201]\r"
     ]
    },
    {
     "name": "stdout",
     "output_type": "stream",
     "text": [
      "22/11/25 20:16:27 WARN DAGScheduler: Broadcasting large task binary with size 1333.2 KiB\n",
      "+----------+-----+\n",
      "|prediction|count|\n",
      "+----------+-----+\n",
      "|       2.0|    5|\n",
      "|       1.0|   12|\n",
      "|       0.0|   16|\n",
      "+----------+-----+\n",
      "\n"
     ]
    },
    {
     "name": "stderr",
     "output_type": "stream",
     "text": [
      "\r",
      "                                                                                \r"
     ]
    }
   ],
   "source": [
    "predictions = rfModel.transform(test)\n",
    "predictions.groupBy(\"prediction\").count().show()"
   ]
  },
  {
   "cell_type": "code",
   "execution_count": 97,
   "id": "e740c100",
   "metadata": {},
   "outputs": [
    {
     "name": "stderr",
     "output_type": "stream",
     "text": [
      "[Stage 922:====================================================>(596 + 5) / 601]\r"
     ]
    },
    {
     "name": "stdout",
     "output_type": "stream",
     "text": [
      "22/11/25 20:17:28 WARN DAGScheduler: Broadcasting large task binary with size 1004.4 KiB\n"
     ]
    },
    {
     "name": "stderr",
     "output_type": "stream",
     "text": [
      "\r",
      "                                                                                \r"
     ]
    },
    {
     "name": "stdout",
     "output_type": "stream",
     "text": [
      "22/11/25 20:17:29 WARN DAGScheduler: Broadcasting large task binary with size 1216.3 KiB\n"
     ]
    },
    {
     "name": "stderr",
     "output_type": "stream",
     "text": [
      "[Stage 933:==================================================>(1199 + 2) / 1201]\r"
     ]
    },
    {
     "name": "stdout",
     "output_type": "stream",
     "text": [
      "22/11/25 20:19:13 WARN DAGScheduler: Broadcasting large task binary with size 1333.7 KiB\n",
      "Test Area under ROC:  0.9689783207569769\n"
     ]
    },
    {
     "name": "stderr",
     "output_type": "stream",
     "text": [
      "\r",
      "                                                                                \r"
     ]
    }
   ],
   "source": [
    "evaluator.setLabelCol(\"label\")\n",
    "evaluator.setPredictionCol (\"prediction\")\n",
    "print(\"Test Area under ROC: \", evaluator.evaluate (predictions))"
   ]
  },
  {
   "cell_type": "code",
   "execution_count": 98,
   "id": "d2df21a4",
   "metadata": {},
   "outputs": [
    {
     "name": "stderr",
     "output_type": "stream",
     "text": [
      "[Stage 950:====================================================>(599 + 2) / 601]\r"
     ]
    },
    {
     "name": "stdout",
     "output_type": "stream",
     "text": [
      "22/11/25 20:20:14 WARN DAGScheduler: Broadcasting large task binary with size 1004.4 KiB\n"
     ]
    },
    {
     "name": "stderr",
     "output_type": "stream",
     "text": [
      "\r",
      "                                                                                \r"
     ]
    },
    {
     "name": "stdout",
     "output_type": "stream",
     "text": [
      "22/11/25 20:20:15 WARN DAGScheduler: Broadcasting large task binary with size 1216.3 KiB\n"
     ]
    },
    {
     "name": "stderr",
     "output_type": "stream",
     "text": [
      "[Stage 961:==================================================>(1198 + 3) / 1201]\r"
     ]
    },
    {
     "name": "stdout",
     "output_type": "stream",
     "text": [
      "22/11/25 20:21:59 WARN DAGScheduler: Broadcasting large task binary with size 1323.1 KiB\n"
     ]
    },
    {
     "name": "stderr",
     "output_type": "stream",
     "text": [
      "\r",
      "                                                                                \r"
     ]
    }
   ],
   "source": [
    "preds_and_labels = predictions.select(['prediction','label'])\n",
    "metrics = MulticlassMetrics(preds_and_labels.rdd.map(tuple))"
   ]
  },
  {
   "cell_type": "code",
   "execution_count": 99,
   "id": "2dd5886b",
   "metadata": {},
   "outputs": [
    {
     "name": "stdout",
     "output_type": "stream",
     "text": [
      "22/11/25 20:21:59 WARN DAGScheduler: Broadcasting large task binary with size 1333.5 KiB\n",
      "DenseMatrix([[16.,  0.,  0.],\n",
      "             [ 0., 11.,  0.],\n",
      "             [ 0.,  2.,  4.]])\n"
     ]
    },
    {
     "name": "stderr",
     "output_type": "stream",
     "text": [
      "\r",
      "[Stage 978:===========>                                            (2 + 8) / 10]\r",
      "\r",
      "                                                                                \r"
     ]
    }
   ],
   "source": [
    "print(metrics.confusionMatrix())"
   ]
  },
  {
   "cell_type": "code",
   "execution_count": 100,
   "id": "8fde213d",
   "metadata": {},
   "outputs": [
    {
     "name": "stdout",
     "output_type": "stream",
     "text": [
      "Weighted recall = 0.9393939393939394\n",
      "Weighted precision = 0.9487179487179487\n",
      "Weighted F(1) Score = 0.9358585858585858\n",
      "Weighted F(0.5) Score = 0.941143032052123\n",
      "Weighted false positive rate = 0.030303030303030304\n"
     ]
    }
   ],
   "source": [
    "# Weighted stats\n",
    "print(\"Weighted recall = %s\" % metrics.weightedRecall)\n",
    "print(\"Weighted precision = %s\" % metrics.weightedPrecision)\n",
    "print(\"Weighted F(1) Score = %s\" % metrics.weightedFMeasure())\n",
    "print(\"Weighted F(0.5) Score = %s\" % metrics.weightedFMeasure(beta=0.5))\n",
    "print(\"Weighted false positive rate = %s\" % metrics.weightedFalsePositiveRate)"
   ]
  },
  {
   "cell_type": "code",
   "execution_count": null,
   "id": "16c6bb6d",
   "metadata": {},
   "outputs": [],
   "source": []
  },
  {
   "cell_type": "code",
   "execution_count": null,
   "id": "9e420ded",
   "metadata": {},
   "outputs": [],
   "source": []
  }
 ],
 "metadata": {
  "kernelspec": {
   "display_name": "Python 3 (ipykernel)",
   "language": "python",
   "name": "python3"
  },
  "language_info": {
   "codemirror_mode": {
    "name": "ipython",
    "version": 3
   },
   "file_extension": ".py",
   "mimetype": "text/x-python",
   "name": "python",
   "nbconvert_exporter": "python",
   "pygments_lexer": "ipython3",
   "version": "3.10.6"
  },
  "widgets": {
   "application/vnd.jupyter.widget-state+json": {
    "state": {},
    "version_major": 1,
    "version_minor": 0
   }
  }
 },
 "nbformat": 4,
 "nbformat_minor": 5
}
